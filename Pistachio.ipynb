{
  "cells": [
    {
      "cell_type": "markdown",
      "metadata": {
        "id": "UwJ44GAsr7o1"
      },
      "source": [
        "DATASET: https://www.kaggle.com/datasets/muratkokludataset/pistachio-dataset"
      ]
    },
    {
      "cell_type": "markdown",
      "metadata": {
        "id": "WDW4jNbAr7pF"
      },
      "source": [
        "# BUSSINES UNDERSTANDING"
      ]
    },
    {
      "cell_type": "markdown",
      "metadata": {
        "id": "3eJe5hXsr7pL"
      },
      "source": [
        "Model klasifikasi dengan menggunakan algoritma SVM pada data pistachio akan membantu memisahkan dan mengklasifikasikan pistachio berdasarkan atribut-atribut seperti AREA (luas), PERIMETER (keliling), MAJOR_AXIS (sumbu utama), MINOR_AXIS (sumbu minor), ECCENTRICITY (eksentrisitas), EQDIASQ (luas sama dengan diameter persegi), SOLIDITY (kepadatan), CONVEX_AREA (luas cembung), EXTENT (tingkat perluasan), ASPECT_RATIO (rasio aspek), ROUNDNESS (kebulatan), COMPACTNESS (kekompakan), SHAPEFACTOR_1 hingga SHAPEFACTOR_4, serta kelas (Class).\n",
        "\n",
        "Dengan memanfaatkan atribut-atribut tersebut, model SVM dapat mempelajari pola dan hubungan antara atribut-atribut tersebut dalam data pelatihan. Setelah melalui proses pelatihan, model ini dapat digunakan untuk mengklasifikasikan pistachio baru ke dalam kategori yang sesuai berdasarkan atribut-atribut yang diukur. Dalam industri pistachio, model klasifikasi ini dapat membantu para produsen dan pedagang untuk secara otomatis mengklasifikasikan pistachio dengan lebih efisien, meningkatkan akurasi klasifikasi, dan mengoptimalkan kualitas produk pistachio yang dihasilkan."
      ]
    },
    {
      "cell_type": "code",
      "execution_count": 1,
      "metadata": {
        "id": "8WB-1Ybjr7pO"
      },
      "outputs": [],
      "source": [
        "import numpy as np\n",
        "import pandas as pd\n",
        "from sklearn.preprocessing import StandardScaler\n",
        "from sklearn.model_selection import train_test_split\n",
        "from sklearn import svm\n",
        "from sklearn.metrics import accuracy_score\n",
        "import matplotlib.pyplot as plt\n",
        "import seaborn as sns"
      ]
    },
    {
      "cell_type": "markdown",
      "metadata": {
        "id": "ry7t_q2sr7pR"
      },
      "source": [
        "2. Load Dataset"
      ]
    },
    {
      "cell_type": "code",
      "execution_count": 2,
      "metadata": {
        "id": "qUxl33pUr7pR"
      },
      "outputs": [],
      "source": [
        "df = pd.read_excel('Pistachio.xlsx')"
      ]
    },
    {
      "cell_type": "markdown",
      "metadata": {
        "id": "weoPQ6Rjr7pS"
      },
      "source": [
        "# DATA UNDERSTANDING"
      ]
    },
    {
      "cell_type": "markdown",
      "metadata": {
        "id": "8ziD-HoIr7pS"
      },
      "source": [
        "deskripsi tabel:\n",
        "\n",
        "AREA = luas pistachio\n",
        "\n",
        "PERIMETER = keliling pistachio\n",
        "\n",
        "MAJOR_AXIS = sumbu utama),\n",
        "\n",
        "MINOR_AXIS (sumbu minor),\n",
        "\n",
        "ECCENTRICITY (eksentrisitas),\n",
        "\n",
        "EQDIASQ (luas sama dengan diameter persegi),\n",
        "\n",
        "SOLIDITY (kepadatan pistachio\n",
        "\n",
        "CONVEX_AREA (luas cembung pistachio\n",
        "\n",
        "EXTENT (tingkat perluasan pistachio\n",
        "\n",
        "ASPECT_RATIO (rasio aspek pistachio\n",
        "\n",
        "ROUNDNESS (kebulatan pistachio\n",
        "\n",
        "COMPACTNESS = kepadatan pistachio\n",
        "\n",
        "SHAPEFACTOR_1 - SHAPEFACTOR_4 = Kompleksitas atau kerumitan bentuk pistachio\n",
        "\n",
        "(Class)."
      ]
    },
    {
      "cell_type": "code",
      "execution_count": 3,
      "metadata": {
        "id": "4GiE--Rdr7pT",
        "outputId": "c9370feb-e706-471f-e627-61cf4d07674d",
        "colab": {
          "base_uri": "https://localhost:8080/",
          "height": 270
        }
      },
      "outputs": [
        {
          "output_type": "execute_result",
          "data": {
            "text/plain": [
              "    AREA  PERIMETER  MAJOR_AXIS  MINOR_AXIS  ECCENTRICITY   EQDIASQ  SOLIDITY  \\\n",
              "0  63391   1568.405    390.3396    236.7461        0.7951  284.0984    0.8665   \n",
              "1  68358   1942.187    410.8594    234.7525        0.8207  295.0188    0.8765   \n",
              "2  73589   1246.538    452.3630    220.5547        0.8731  306.0987    0.9172   \n",
              "3  71106   1445.261    429.5291    216.0765        0.8643  300.8903    0.9589   \n",
              "4  80087   1251.524    469.3783    220.9344        0.8823  319.3273    0.9657   \n",
              "\n",
              "   CONVEX_AREA  EXTENT  ASPECT_RATIO  ROUNDNESS  COMPACTNESS  SHAPEFACTOR_1  \\\n",
              "0        73160  0.6394        1.6488     0.3238       0.7278         0.0062   \n",
              "1        77991  0.6772        1.7502     0.2277       0.7181         0.0060   \n",
              "2        80234  0.7127        2.0510     0.5951       0.6767         0.0061   \n",
              "3        74153  0.7028        1.9879     0.4278       0.7005         0.0060   \n",
              "4        82929  0.7459        2.1245     0.6425       0.6803         0.0059   \n",
              "\n",
              "   SHAPEFACTOR_2  SHAPEFACTOR_3  SHAPEFACTOR_4              Class  \n",
              "0         0.0037         0.5297         0.8734  Kirmizi_Pistachio  \n",
              "1         0.0034         0.5156         0.9024  Kirmizi_Pistachio  \n",
              "2         0.0030         0.4579         0.9391  Kirmizi_Pistachio  \n",
              "3         0.0030         0.4907         0.9755  Kirmizi_Pistachio  \n",
              "4         0.0028         0.4628         0.9833  Kirmizi_Pistachio  "
            ],
            "text/html": [
              "\n",
              "  <div id=\"df-c362315b-19e7-4043-b904-f90e2709add9\">\n",
              "    <div class=\"colab-df-container\">\n",
              "      <div>\n",
              "<style scoped>\n",
              "    .dataframe tbody tr th:only-of-type {\n",
              "        vertical-align: middle;\n",
              "    }\n",
              "\n",
              "    .dataframe tbody tr th {\n",
              "        vertical-align: top;\n",
              "    }\n",
              "\n",
              "    .dataframe thead th {\n",
              "        text-align: right;\n",
              "    }\n",
              "</style>\n",
              "<table border=\"1\" class=\"dataframe\">\n",
              "  <thead>\n",
              "    <tr style=\"text-align: right;\">\n",
              "      <th></th>\n",
              "      <th>AREA</th>\n",
              "      <th>PERIMETER</th>\n",
              "      <th>MAJOR_AXIS</th>\n",
              "      <th>MINOR_AXIS</th>\n",
              "      <th>ECCENTRICITY</th>\n",
              "      <th>EQDIASQ</th>\n",
              "      <th>SOLIDITY</th>\n",
              "      <th>CONVEX_AREA</th>\n",
              "      <th>EXTENT</th>\n",
              "      <th>ASPECT_RATIO</th>\n",
              "      <th>ROUNDNESS</th>\n",
              "      <th>COMPACTNESS</th>\n",
              "      <th>SHAPEFACTOR_1</th>\n",
              "      <th>SHAPEFACTOR_2</th>\n",
              "      <th>SHAPEFACTOR_3</th>\n",
              "      <th>SHAPEFACTOR_4</th>\n",
              "      <th>Class</th>\n",
              "    </tr>\n",
              "  </thead>\n",
              "  <tbody>\n",
              "    <tr>\n",
              "      <th>0</th>\n",
              "      <td>63391</td>\n",
              "      <td>1568.405</td>\n",
              "      <td>390.3396</td>\n",
              "      <td>236.7461</td>\n",
              "      <td>0.7951</td>\n",
              "      <td>284.0984</td>\n",
              "      <td>0.8665</td>\n",
              "      <td>73160</td>\n",
              "      <td>0.6394</td>\n",
              "      <td>1.6488</td>\n",
              "      <td>0.3238</td>\n",
              "      <td>0.7278</td>\n",
              "      <td>0.0062</td>\n",
              "      <td>0.0037</td>\n",
              "      <td>0.5297</td>\n",
              "      <td>0.8734</td>\n",
              "      <td>Kirmizi_Pistachio</td>\n",
              "    </tr>\n",
              "    <tr>\n",
              "      <th>1</th>\n",
              "      <td>68358</td>\n",
              "      <td>1942.187</td>\n",
              "      <td>410.8594</td>\n",
              "      <td>234.7525</td>\n",
              "      <td>0.8207</td>\n",
              "      <td>295.0188</td>\n",
              "      <td>0.8765</td>\n",
              "      <td>77991</td>\n",
              "      <td>0.6772</td>\n",
              "      <td>1.7502</td>\n",
              "      <td>0.2277</td>\n",
              "      <td>0.7181</td>\n",
              "      <td>0.0060</td>\n",
              "      <td>0.0034</td>\n",
              "      <td>0.5156</td>\n",
              "      <td>0.9024</td>\n",
              "      <td>Kirmizi_Pistachio</td>\n",
              "    </tr>\n",
              "    <tr>\n",
              "      <th>2</th>\n",
              "      <td>73589</td>\n",
              "      <td>1246.538</td>\n",
              "      <td>452.3630</td>\n",
              "      <td>220.5547</td>\n",
              "      <td>0.8731</td>\n",
              "      <td>306.0987</td>\n",
              "      <td>0.9172</td>\n",
              "      <td>80234</td>\n",
              "      <td>0.7127</td>\n",
              "      <td>2.0510</td>\n",
              "      <td>0.5951</td>\n",
              "      <td>0.6767</td>\n",
              "      <td>0.0061</td>\n",
              "      <td>0.0030</td>\n",
              "      <td>0.4579</td>\n",
              "      <td>0.9391</td>\n",
              "      <td>Kirmizi_Pistachio</td>\n",
              "    </tr>\n",
              "    <tr>\n",
              "      <th>3</th>\n",
              "      <td>71106</td>\n",
              "      <td>1445.261</td>\n",
              "      <td>429.5291</td>\n",
              "      <td>216.0765</td>\n",
              "      <td>0.8643</td>\n",
              "      <td>300.8903</td>\n",
              "      <td>0.9589</td>\n",
              "      <td>74153</td>\n",
              "      <td>0.7028</td>\n",
              "      <td>1.9879</td>\n",
              "      <td>0.4278</td>\n",
              "      <td>0.7005</td>\n",
              "      <td>0.0060</td>\n",
              "      <td>0.0030</td>\n",
              "      <td>0.4907</td>\n",
              "      <td>0.9755</td>\n",
              "      <td>Kirmizi_Pistachio</td>\n",
              "    </tr>\n",
              "    <tr>\n",
              "      <th>4</th>\n",
              "      <td>80087</td>\n",
              "      <td>1251.524</td>\n",
              "      <td>469.3783</td>\n",
              "      <td>220.9344</td>\n",
              "      <td>0.8823</td>\n",
              "      <td>319.3273</td>\n",
              "      <td>0.9657</td>\n",
              "      <td>82929</td>\n",
              "      <td>0.7459</td>\n",
              "      <td>2.1245</td>\n",
              "      <td>0.6425</td>\n",
              "      <td>0.6803</td>\n",
              "      <td>0.0059</td>\n",
              "      <td>0.0028</td>\n",
              "      <td>0.4628</td>\n",
              "      <td>0.9833</td>\n",
              "      <td>Kirmizi_Pistachio</td>\n",
              "    </tr>\n",
              "  </tbody>\n",
              "</table>\n",
              "</div>\n",
              "      <button class=\"colab-df-convert\" onclick=\"convertToInteractive('df-c362315b-19e7-4043-b904-f90e2709add9')\"\n",
              "              title=\"Convert this dataframe to an interactive table.\"\n",
              "              style=\"display:none;\">\n",
              "        \n",
              "  <svg xmlns=\"http://www.w3.org/2000/svg\" height=\"24px\"viewBox=\"0 0 24 24\"\n",
              "       width=\"24px\">\n",
              "    <path d=\"M0 0h24v24H0V0z\" fill=\"none\"/>\n",
              "    <path d=\"M18.56 5.44l.94 2.06.94-2.06 2.06-.94-2.06-.94-.94-2.06-.94 2.06-2.06.94zm-11 1L8.5 8.5l.94-2.06 2.06-.94-2.06-.94L8.5 2.5l-.94 2.06-2.06.94zm10 10l.94 2.06.94-2.06 2.06-.94-2.06-.94-.94-2.06-.94 2.06-2.06.94z\"/><path d=\"M17.41 7.96l-1.37-1.37c-.4-.4-.92-.59-1.43-.59-.52 0-1.04.2-1.43.59L10.3 9.45l-7.72 7.72c-.78.78-.78 2.05 0 2.83L4 21.41c.39.39.9.59 1.41.59.51 0 1.02-.2 1.41-.59l7.78-7.78 2.81-2.81c.8-.78.8-2.07 0-2.86zM5.41 20L4 18.59l7.72-7.72 1.47 1.35L5.41 20z\"/>\n",
              "  </svg>\n",
              "      </button>\n",
              "      \n",
              "  <style>\n",
              "    .colab-df-container {\n",
              "      display:flex;\n",
              "      flex-wrap:wrap;\n",
              "      gap: 12px;\n",
              "    }\n",
              "\n",
              "    .colab-df-convert {\n",
              "      background-color: #E8F0FE;\n",
              "      border: none;\n",
              "      border-radius: 50%;\n",
              "      cursor: pointer;\n",
              "      display: none;\n",
              "      fill: #1967D2;\n",
              "      height: 32px;\n",
              "      padding: 0 0 0 0;\n",
              "      width: 32px;\n",
              "    }\n",
              "\n",
              "    .colab-df-convert:hover {\n",
              "      background-color: #E2EBFA;\n",
              "      box-shadow: 0px 1px 2px rgba(60, 64, 67, 0.3), 0px 1px 3px 1px rgba(60, 64, 67, 0.15);\n",
              "      fill: #174EA6;\n",
              "    }\n",
              "\n",
              "    [theme=dark] .colab-df-convert {\n",
              "      background-color: #3B4455;\n",
              "      fill: #D2E3FC;\n",
              "    }\n",
              "\n",
              "    [theme=dark] .colab-df-convert:hover {\n",
              "      background-color: #434B5C;\n",
              "      box-shadow: 0px 1px 3px 1px rgba(0, 0, 0, 0.15);\n",
              "      filter: drop-shadow(0px 1px 2px rgba(0, 0, 0, 0.3));\n",
              "      fill: #FFFFFF;\n",
              "    }\n",
              "  </style>\n",
              "\n",
              "      <script>\n",
              "        const buttonEl =\n",
              "          document.querySelector('#df-c362315b-19e7-4043-b904-f90e2709add9 button.colab-df-convert');\n",
              "        buttonEl.style.display =\n",
              "          google.colab.kernel.accessAllowed ? 'block' : 'none';\n",
              "\n",
              "        async function convertToInteractive(key) {\n",
              "          const element = document.querySelector('#df-c362315b-19e7-4043-b904-f90e2709add9');\n",
              "          const dataTable =\n",
              "            await google.colab.kernel.invokeFunction('convertToInteractive',\n",
              "                                                     [key], {});\n",
              "          if (!dataTable) return;\n",
              "\n",
              "          const docLinkHtml = 'Like what you see? Visit the ' +\n",
              "            '<a target=\"_blank\" href=https://colab.research.google.com/notebooks/data_table.ipynb>data table notebook</a>'\n",
              "            + ' to learn more about interactive tables.';\n",
              "          element.innerHTML = '';\n",
              "          dataTable['output_type'] = 'display_data';\n",
              "          await google.colab.output.renderOutput(dataTable, element);\n",
              "          const docLink = document.createElement('div');\n",
              "          docLink.innerHTML = docLinkHtml;\n",
              "          element.appendChild(docLink);\n",
              "        }\n",
              "      </script>\n",
              "    </div>\n",
              "  </div>\n",
              "  "
            ]
          },
          "metadata": {},
          "execution_count": 3
        }
      ],
      "source": [
        "df.head()"
      ]
    },
    {
      "cell_type": "code",
      "execution_count": 4,
      "metadata": {
        "id": "LiKA8VEwr7pV",
        "outputId": "d31b87c4-2b1d-496c-9603-c0129840bc37",
        "colab": {
          "base_uri": "https://localhost:8080/"
        }
      },
      "outputs": [
        {
          "output_type": "execute_result",
          "data": {
            "text/plain": [
              "(2148, 17)"
            ]
          },
          "metadata": {},
          "execution_count": 4
        }
      ],
      "source": [
        "df.shape"
      ]
    },
    {
      "cell_type": "code",
      "execution_count": 5,
      "metadata": {
        "id": "HZKkq1mzr7pY",
        "outputId": "83c52b3c-e08f-4b8d-87e0-668c81edb961",
        "colab": {
          "base_uri": "https://localhost:8080/"
        }
      },
      "outputs": [
        {
          "output_type": "execute_result",
          "data": {
            "text/plain": [
              "Index(['AREA', 'PERIMETER', 'MAJOR_AXIS', 'MINOR_AXIS', 'ECCENTRICITY',\n",
              "       'EQDIASQ', 'SOLIDITY', 'CONVEX_AREA', 'EXTENT', 'ASPECT_RATIO',\n",
              "       'ROUNDNESS', 'COMPACTNESS', 'SHAPEFACTOR_1', 'SHAPEFACTOR_2',\n",
              "       'SHAPEFACTOR_3', 'SHAPEFACTOR_4', 'Class'],\n",
              "      dtype='object')"
            ]
          },
          "metadata": {},
          "execution_count": 5
        }
      ],
      "source": [
        "df.columns"
      ]
    },
    {
      "cell_type": "code",
      "execution_count": 6,
      "metadata": {
        "id": "NbQsH1Tvr7pZ",
        "outputId": "a191b2ec-0fae-4da2-c759-1c9420b6eb37",
        "colab": {
          "base_uri": "https://localhost:8080/"
        }
      },
      "outputs": [
        {
          "output_type": "execute_result",
          "data": {
            "text/plain": [
              "Kirmizi_Pistachio    1232\n",
              "Siit_Pistachio        916\n",
              "Name: Class, dtype: int64"
            ]
          },
          "metadata": {},
          "execution_count": 6
        }
      ],
      "source": [
        "df['Class'].value_counts()"
      ]
    },
    {
      "cell_type": "markdown",
      "metadata": {
        "id": "TAnJpDshr7pZ"
      },
      "source": [
        "# DATA PREPARATION"
      ]
    },
    {
      "cell_type": "code",
      "execution_count": 7,
      "metadata": {
        "id": "zhanQmRQr7pa",
        "outputId": "c4c483b2-d578-48d8-f871-3ca3916c5c7d",
        "colab": {
          "base_uri": "https://localhost:8080/",
          "height": 449
        }
      },
      "outputs": [
        {
          "output_type": "display_data",
          "data": {
            "text/plain": [
              "<Figure size 640x480 with 1 Axes>"
            ],
            "image/png": "[encoded data removed]"
          },
          "metadata": {}
        }
      ],
      "source": [
        "sns.countplot(data=df,y=\"Class\")\n",
        "plt.show()"
      ]
    },
    {
      "cell_type": "code",
      "execution_count": 8,
      "metadata": {
        "id": "AnVxMPkCr7pc",
        "outputId": "947ad922-c106-4413-eade-6b32c7915898",
        "colab": {
          "base_uri": "https://localhost:8080/",
          "height": 406
        }
      },
      "outputs": [
        {
          "output_type": "display_data",
          "data": {
            "text/plain": [
              "<Figure size 640x480 with 1 Axes>"
            ],
            "image/png": "[encoded data removed]"
          },
          "metadata": {}
        }
      ],
      "source": [
        "df[\"Class\"].value_counts().plot(kind=\"pie\",autopct=\"%.2f%%\")\n",
        "plt.legend(df[\"Class\"].unique())\n",
        "plt.show()"
      ]
    },
    {
      "cell_type": "code",
      "execution_count": 9,
      "metadata": {
        "id": "dhpmgn89r7pd"
      },
      "outputs": [],
      "source": [
        "df.replace(('Kirmizi_Pistachio', 'Siit_Pistachio'), (0,1), inplace=True) #gender"
      ]
    },
    {
      "cell_type": "code",
      "execution_count": 10,
      "metadata": {
        "id": "zI0IOuv9r7pd"
      },
      "outputs": [],
      "source": [
        "# drop multiple columns\n",
        "columns_to_drop = ['SHAPEFACTOR_1', 'SHAPEFACTOR_2', 'SHAPEFACTOR_3', 'SHAPEFACTOR_4']\n",
        "df = df.drop(columns=columns_to_drop)\n"
      ]
    },
    {
      "cell_type": "code",
      "execution_count": 11,
      "metadata": {
        "id": "JCVo-K0Kr7pe",
        "outputId": "4fd92094-b4ec-40ef-edd6-abccf128ce0a",
        "colab": {
          "base_uri": "https://localhost:8080/"
        }
      },
      "outputs": [
        {
          "output_type": "execute_result",
          "data": {
            "text/plain": [
              "Index(['AREA', 'PERIMETER', 'MAJOR_AXIS', 'MINOR_AXIS', 'ECCENTRICITY',\n",
              "       'EQDIASQ', 'SOLIDITY', 'CONVEX_AREA', 'EXTENT', 'ASPECT_RATIO',\n",
              "       'ROUNDNESS', 'COMPACTNESS', 'Class'],\n",
              "      dtype='object')"
            ]
          },
          "metadata": {},
          "execution_count": 11
        }
      ],
      "source": [
        "df.columns"
      ]
    },
    {
      "cell_type": "markdown",
      "metadata": {
        "id": "-UKG1I1Zr7pf"
      },
      "source": [
        "# MODELLING"
      ]
    },
    {
      "cell_type": "code",
      "execution_count": 12,
      "metadata": {
        "id": "I5SSrFbpr7pg"
      },
      "outputs": [],
      "source": [
        "# memisahkan data dan label\n",
        "X = df.drop (columns='Class', axis=1)\n",
        "Y = df['Class']"
      ]
    },
    {
      "cell_type": "code",
      "execution_count": 13,
      "metadata": {
        "id": "17Mkc99fr7ph",
        "outputId": "2ead6dcf-01a2-4f11-d8fd-1a76b896052d",
        "colab": {
          "base_uri": "https://localhost:8080/"
        }
      },
      "outputs": [
        {
          "output_type": "stream",
          "name": "stdout",
          "text": [
            "        AREA  PERIMETER  MAJOR_AXIS  MINOR_AXIS  ECCENTRICITY   EQDIASQ  \\\n",
            "0      63391  1568.4050    390.3396    236.7461        0.7951  284.0984   \n",
            "1      68358  1942.1870    410.8594    234.7525        0.8207  295.0188   \n",
            "2      73589  1246.5380    452.3630    220.5547        0.8731  306.0987   \n",
            "3      71106  1445.2610    429.5291    216.0765        0.8643  300.8903   \n",
            "4      80087  1251.5240    469.3783    220.9344        0.8823  319.3273   \n",
            "...      ...        ...         ...         ...           ...       ...   \n",
            "2143   85983  1157.1160    444.3447    248.8627        0.8284  330.8730   \n",
            "2144   85691  2327.3459    439.8794    278.9297        0.7732  330.3107   \n",
            "2145  101136  1255.6190    475.2161    271.3299        0.8210  358.8459   \n",
            "2146   97409  1195.2150    452.1823    274.5764        0.7945  352.1718   \n",
            "2147   78466  2356.9080    445.9131    258.5125        0.8148  316.0791   \n",
            "\n",
            "      SOLIDITY  CONVEX_AREA  EXTENT  ASPECT_RATIO  ROUNDNESS  COMPACTNESS  \n",
            "0       0.8665        73160  0.6394        1.6488     0.3238       0.7278  \n",
            "1       0.8765        77991  0.6772        1.7502     0.2277       0.7181  \n",
            "2       0.9172        80234  0.7127        2.0510     0.5951       0.6767  \n",
            "3       0.9589        74153  0.7028        1.9879     0.4278       0.7005  \n",
            "4       0.9657        82929  0.7459        2.1245     0.6425       0.6803  \n",
            "...        ...          ...     ...           ...        ...          ...  \n",
            "2143    0.9823        87536  0.6799        1.7855     0.8070       0.7446  \n",
            "2144    0.8886        96439  0.6590        1.5770     0.1988       0.7509  \n",
            "2145    0.9888       102286  0.7584        1.7514     0.8061       0.7551  \n",
            "2146    0.9902        98376  0.7635        1.6468     0.8569       0.7788  \n",
            "2147    0.8662        90591  0.6123        1.7249     0.1775       0.7088  \n",
            "\n",
            "[2148 rows x 12 columns]\n"
          ]
        }
      ],
      "source": [
        "print(X)"
      ]
    },
    {
      "cell_type": "code",
      "execution_count": 14,
      "metadata": {
        "id": "l6p5ye1ur7pi",
        "outputId": "65ea5879-6633-410a-fac9-75418bfeeaea",
        "colab": {
          "base_uri": "https://localhost:8080/"
        }
      },
      "outputs": [
        {
          "output_type": "stream",
          "name": "stdout",
          "text": [
            "0       0\n",
            "1       0\n",
            "2       0\n",
            "3       0\n",
            "4       0\n",
            "       ..\n",
            "2143    1\n",
            "2144    1\n",
            "2145    1\n",
            "2146    1\n",
            "2147    1\n",
            "Name: Class, Length: 2148, dtype: int64\n"
          ]
        }
      ],
      "source": [
        "print(Y)"
      ]
    },
    {
      "cell_type": "markdown",
      "metadata": {
        "id": "r2e72J_Ir7pj"
      },
      "source": [
        "3. Standarisasi Data"
      ]
    },
    {
      "cell_type": "code",
      "execution_count": 15,
      "metadata": {
        "id": "NbeQJPyHr7pk"
      },
      "outputs": [],
      "source": [
        "scaler = StandardScaler()"
      ]
    },
    {
      "cell_type": "code",
      "execution_count": 16,
      "metadata": {
        "id": "0ySVolE3r7pl",
        "outputId": "47c305b4-8a39-4995-df3f-a0c0f3878163",
        "colab": {
          "base_uri": "https://localhost:8080/",
          "height": 74
        }
      },
      "outputs": [
        {
          "output_type": "execute_result",
          "data": {
            "text/plain": [
              "StandardScaler()"
            ],
            "text/html": [
              "<style>#sk-container-id-1 {color: black;background-color: white;}#sk-container-id-1 pre{padding: 0;}#sk-container-id-1 div.sk-toggleable {background-color: white;}#sk-container-id-1 label.sk-toggleable__label {cursor: pointer;display: block;width: 100%;margin-bottom: 0;padding: 0.3em;box-sizing: border-box;text-align: center;}#sk-container-id-1 label.sk-toggleable__label-arrow:before {content: \"▸\";float: left;margin-right: 0.25em;color: #696969;}#sk-container-id-1 label.sk-toggleable__label-arrow:hover:before {color: black;}#sk-container-id-1 div.sk-estimator:hover label.sk-toggleable__label-arrow:before {color: black;}#sk-container-id-1 div.sk-toggleable__content {max-height: 0;max-width: 0;overflow: hidden;text-align: left;background-color: #f0f8ff;}#sk-container-id-1 div.sk-toggleable__content pre {margin: 0.2em;color: black;border-radius: 0.25em;background-color: #f0f8ff;}#sk-container-id-1 input.sk-toggleable__control:checked~div.sk-toggleable__content {max-height: 200px;max-width: 100%;overflow: auto;}#sk-container-id-1 input.sk-toggleable__control:checked~label.sk-toggleable__label-arrow:before {content: \"▾\";}#sk-container-id-1 div.sk-estimator input.sk-toggleable__control:checked~label.sk-toggleable__label {background-color: #d4ebff;}#sk-container-id-1 div.sk-label input.sk-toggleable__control:checked~label.sk-toggleable__label {background-color: #d4ebff;}#sk-container-id-1 input.sk-hidden--visually {border: 0;clip: rect(1px 1px 1px 1px);clip: rect(1px, 1px, 1px, 1px);height: 1px;margin: -1px;overflow: hidden;padding: 0;position: absolute;width: 1px;}#sk-container-id-1 div.sk-estimator {font-family: monospace;background-color: #f0f8ff;border: 1px dotted black;border-radius: 0.25em;box-sizing: border-box;margin-bottom: 0.5em;}#sk-container-id-1 div.sk-estimator:hover {background-color: #d4ebff;}#sk-container-id-1 div.sk-parallel-item::after {content: \"\";width: 100%;border-bottom: 1px solid gray;flex-grow: 1;}#sk-container-id-1 div.sk-label:hover label.sk-toggleable__label {background-color: #d4ebff;}#sk-container-id-1 div.sk-serial::before {content: \"\";position: absolute;border-left: 1px solid gray;box-sizing: border-box;top: 0;bottom: 0;left: 50%;z-index: 0;}#sk-container-id-1 div.sk-serial {display: flex;flex-direction: column;align-items: center;background-color: white;padding-right: 0.2em;padding-left: 0.2em;position: relative;}#sk-container-id-1 div.sk-item {position: relative;z-index: 1;}#sk-container-id-1 div.sk-parallel {display: flex;align-items: stretch;justify-content: center;background-color: white;position: relative;}#sk-container-id-1 div.sk-item::before, #sk-container-id-1 div.sk-parallel-item::before {content: \"\";position: absolute;border-left: 1px solid gray;box-sizing: border-box;top: 0;bottom: 0;left: 50%;z-index: -1;}#sk-container-id-1 div.sk-parallel-item {display: flex;flex-direction: column;z-index: 1;position: relative;background-color: white;}#sk-container-id-1 div.sk-parallel-item:first-child::after {align-self: flex-end;width: 50%;}#sk-container-id-1 div.sk-parallel-item:last-child::after {align-self: flex-start;width: 50%;}#sk-container-id-1 div.sk-parallel-item:only-child::after {width: 0;}#sk-container-id-1 div.sk-dashed-wrapped {border: 1px dashed gray;margin: 0 0.4em 0.5em 0.4em;box-sizing: border-box;padding-bottom: 0.4em;background-color: white;}#sk-container-id-1 div.sk-label label {font-family: monospace;font-weight: bold;display: inline-block;line-height: 1.2em;}#sk-container-id-1 div.sk-label-container {text-align: center;}#sk-container-id-1 div.sk-container {/* jupyter's `normalize.less` sets `[hidden] { display: none; }` but bootstrap.min.css set `[hidden] { display: none !important; }` so we also need the `!important` here to be able to override the default hidden behavior on the sphinx rendered scikit-learn.org. See: https://github.com/scikit-learn/scikit-learn/issues/21755 */display: inline-block !important;position: relative;}#sk-container-id-1 div.sk-text-repr-fallback {display: none;}</style><div id=\"sk-container-id-1\" class=\"sk-top-container\"><div class=\"sk-text-repr-fallback\"><pre>StandardScaler()</pre><b>In a Jupyter environment, please rerun this cell to show the HTML representation or trust the notebook. <br />On GitHub, the HTML representation is unable to render, please try loading this page with nbviewer.org.</b></div><div class=\"sk-container\" hidden><div class=\"sk-item\"><div class=\"sk-estimator sk-toggleable\"><input class=\"sk-toggleable__control sk-hidden--visually\" id=\"sk-estimator-id-1\" type=\"checkbox\" checked><label for=\"sk-estimator-id-1\" class=\"sk-toggleable__label sk-toggleable__label-arrow\">StandardScaler</label><div class=\"sk-toggleable__content\"><pre>StandardScaler()</pre></div></div></div></div></div>"
            ]
          },
          "metadata": {},
          "execution_count": 16
        }
      ],
      "source": [
        "scaler.fit(X)"
      ]
    },
    {
      "cell_type": "code",
      "execution_count": 17,
      "metadata": {
        "id": "DlZSjIymr7pm"
      },
      "outputs": [],
      "source": [
        "standarized_data = scaler.transform(X)"
      ]
    },
    {
      "cell_type": "code",
      "execution_count": 18,
      "metadata": {
        "id": "b6WBDHH6r7po",
        "outputId": "32109a88-7e13-43f9-9f20-0c34ed5b7c39",
        "colab": {
          "base_uri": "https://localhost:8080/"
        }
      },
      "outputs": [
        {
          "output_type": "stream",
          "name": "stdout",
          "text": [
            "[[-1.26229557  0.3793384  -1.72358958 ... -1.03878418 -1.15355007\n",
            "   0.33058803]\n",
            " [-0.88367525  1.3748213  -1.09099947 ... -0.61636225 -1.60533844\n",
            "   0.11279048]\n",
            " [-0.48493096 -0.47788077  0.18848508 ...  0.63673946  0.1218941\n",
            "  -0.81677844]\n",
            " ...\n",
            " [ 1.61489872 -0.45369561  0.89300681 ... -0.61136318  1.11385399\n",
            "   0.94356464]\n",
            " [ 1.33080009 -0.61456785  0.18291441 ... -1.04711597  1.35267657\n",
            "   1.47570917]\n",
            " [-0.11317108  2.47933587 -0.01035424 ... -0.72175944 -1.84134028\n",
            "  -0.09602573]]\n"
          ]
        }
      ],
      "source": [
        "print(standarized_data)"
      ]
    },
    {
      "cell_type": "code",
      "execution_count": 19,
      "metadata": {
        "id": "xPKEjOi9r7pw"
      },
      "outputs": [],
      "source": [
        "X = standarized_data\n",
        "Y = df['Class']"
      ]
    },
    {
      "cell_type": "code",
      "execution_count": 20,
      "metadata": {
        "id": "jeGkvEIfr7px",
        "outputId": "2788210e-c0e8-4650-d20f-7486ff9b7080",
        "colab": {
          "base_uri": "https://localhost:8080/"
        }
      },
      "outputs": [
        {
          "output_type": "stream",
          "name": "stdout",
          "text": [
            "[[-1.26229557  0.3793384  -1.72358958 ... -1.03878418 -1.15355007\n",
            "   0.33058803]\n",
            " [-0.88367525  1.3748213  -1.09099947 ... -0.61636225 -1.60533844\n",
            "   0.11279048]\n",
            " [-0.48493096 -0.47788077  0.18848508 ...  0.63673946  0.1218941\n",
            "  -0.81677844]\n",
            " ...\n",
            " [ 1.61489872 -0.45369561  0.89300681 ... -0.61136318  1.11385399\n",
            "   0.94356464]\n",
            " [ 1.33080009 -0.61456785  0.18291441 ... -1.04711597  1.35267657\n",
            "   1.47570917]\n",
            " [-0.11317108  2.47933587 -0.01035424 ... -0.72175944 -1.84134028\n",
            "  -0.09602573]]\n",
            "0       0\n",
            "1       0\n",
            "2       0\n",
            "3       0\n",
            "4       0\n",
            "       ..\n",
            "2143    1\n",
            "2144    1\n",
            "2145    1\n",
            "2146    1\n",
            "2147    1\n",
            "Name: Class, Length: 2148, dtype: int64\n"
          ]
        }
      ],
      "source": [
        "print(X)\n",
        "print(Y)"
      ]
    },
    {
      "cell_type": "markdown",
      "metadata": {
        "id": "KlX2jxwPr7py"
      },
      "source": [
        "4. Memisahkan Data Training dan Data Testing"
      ]
    },
    {
      "cell_type": "code",
      "execution_count": 21,
      "metadata": {
        "id": "jf8tRyIhr7py"
      },
      "outputs": [],
      "source": [
        "X_train, X_test, Y_train, Y_test = train_test_split(X, Y, test_size= 0.2, stratify=Y, random_state=2)"
      ]
    },
    {
      "cell_type": "code",
      "execution_count": 22,
      "metadata": {
        "id": "Mydr2Fhkr7pz",
        "outputId": "2db3e1b6-721c-4e6d-a045-bc658812baaa",
        "colab": {
          "base_uri": "https://localhost:8080/"
        }
      },
      "outputs": [
        {
          "output_type": "stream",
          "name": "stdout",
          "text": [
            "(2148, 12) (1718, 12) (430, 12)\n"
          ]
        }
      ],
      "source": [
        "print(X.shape, X_train.shape, X_test.shape)"
      ]
    },
    {
      "cell_type": "markdown",
      "metadata": {
        "id": "oTFuuqX5r7p0"
      },
      "source": [
        "5. Membuat data latih menggunakan algoritma SVM"
      ]
    },
    {
      "cell_type": "code",
      "execution_count": 23,
      "metadata": {
        "id": "f9bIY4T5r7p1"
      },
      "outputs": [],
      "source": [
        "classifier = svm.SVC(kernel='linear')"
      ]
    },
    {
      "cell_type": "code",
      "execution_count": 24,
      "metadata": {
        "id": "dN_xXVyJr7p4",
        "outputId": "18474d3e-3912-46be-eaef-b399200bb655",
        "colab": {
          "base_uri": "https://localhost:8080/",
          "height": 74
        }
      },
      "outputs": [
        {
          "output_type": "execute_result",
          "data": {
            "text/plain": [
              "SVC(kernel='linear')"
            ],
            "text/html": [
              "<style>#sk-container-id-2 {color: black;background-color: white;}#sk-container-id-2 pre{padding: 0;}#sk-container-id-2 div.sk-toggleable {background-color: white;}#sk-container-id-2 label.sk-toggleable__label {cursor: pointer;display: block;width: 100%;margin-bottom: 0;padding: 0.3em;box-sizing: border-box;text-align: center;}#sk-container-id-2 label.sk-toggleable__label-arrow:before {content: \"▸\";float: left;margin-right: 0.25em;color: #696969;}#sk-container-id-2 label.sk-toggleable__label-arrow:hover:before {color: black;}#sk-container-id-2 div.sk-estimator:hover label.sk-toggleable__label-arrow:before {color: black;}#sk-container-id-2 div.sk-toggleable__content {max-height: 0;max-width: 0;overflow: hidden;text-align: left;background-color: #f0f8ff;}#sk-container-id-2 div.sk-toggleable__content pre {margin: 0.2em;color: black;border-radius: 0.25em;background-color: #f0f8ff;}#sk-container-id-2 input.sk-toggleable__control:checked~div.sk-toggleable__content {max-height: 200px;max-width: 100%;overflow: auto;}#sk-container-id-2 input.sk-toggleable__control:checked~label.sk-toggleable__label-arrow:before {content: \"▾\";}#sk-container-id-2 div.sk-estimator input.sk-toggleable__control:checked~label.sk-toggleable__label {background-color: #d4ebff;}#sk-container-id-2 div.sk-label input.sk-toggleable__control:checked~label.sk-toggleable__label {background-color: #d4ebff;}#sk-container-id-2 input.sk-hidden--visually {border: 0;clip: rect(1px 1px 1px 1px);clip: rect(1px, 1px, 1px, 1px);height: 1px;margin: -1px;overflow: hidden;padding: 0;position: absolute;width: 1px;}#sk-container-id-2 div.sk-estimator {font-family: monospace;background-color: #f0f8ff;border: 1px dotted black;border-radius: 0.25em;box-sizing: border-box;margin-bottom: 0.5em;}#sk-container-id-2 div.sk-estimator:hover {background-color: #d4ebff;}#sk-container-id-2 div.sk-parallel-item::after {content: \"\";width: 100%;border-bottom: 1px solid gray;flex-grow: 1;}#sk-container-id-2 div.sk-label:hover label.sk-toggleable__label {background-color: #d4ebff;}#sk-container-id-2 div.sk-serial::before {content: \"\";position: absolute;border-left: 1px solid gray;box-sizing: border-box;top: 0;bottom: 0;left: 50%;z-index: 0;}#sk-container-id-2 div.sk-serial {display: flex;flex-direction: column;align-items: center;background-color: white;padding-right: 0.2em;padding-left: 0.2em;position: relative;}#sk-container-id-2 div.sk-item {position: relative;z-index: 1;}#sk-container-id-2 div.sk-parallel {display: flex;align-items: stretch;justify-content: center;background-color: white;position: relative;}#sk-container-id-2 div.sk-item::before, #sk-container-id-2 div.sk-parallel-item::before {content: \"\";position: absolute;border-left: 1px solid gray;box-sizing: border-box;top: 0;bottom: 0;left: 50%;z-index: -1;}#sk-container-id-2 div.sk-parallel-item {display: flex;flex-direction: column;z-index: 1;position: relative;background-color: white;}#sk-container-id-2 div.sk-parallel-item:first-child::after {align-self: flex-end;width: 50%;}#sk-container-id-2 div.sk-parallel-item:last-child::after {align-self: flex-start;width: 50%;}#sk-container-id-2 div.sk-parallel-item:only-child::after {width: 0;}#sk-container-id-2 div.sk-dashed-wrapped {border: 1px dashed gray;margin: 0 0.4em 0.5em 0.4em;box-sizing: border-box;padding-bottom: 0.4em;background-color: white;}#sk-container-id-2 div.sk-label label {font-family: monospace;font-weight: bold;display: inline-block;line-height: 1.2em;}#sk-container-id-2 div.sk-label-container {text-align: center;}#sk-container-id-2 div.sk-container {/* jupyter's `normalize.less` sets `[hidden] { display: none; }` but bootstrap.min.css set `[hidden] { display: none !important; }` so we also need the `!important` here to be able to override the default hidden behavior on the sphinx rendered scikit-learn.org. See: https://github.com/scikit-learn/scikit-learn/issues/21755 */display: inline-block !important;position: relative;}#sk-container-id-2 div.sk-text-repr-fallback {display: none;}</style><div id=\"sk-container-id-2\" class=\"sk-top-container\"><div class=\"sk-text-repr-fallback\"><pre>SVC(kernel=&#x27;linear&#x27;)</pre><b>In a Jupyter environment, please rerun this cell to show the HTML representation or trust the notebook. <br />On GitHub, the HTML representation is unable to render, please try loading this page with nbviewer.org.</b></div><div class=\"sk-container\" hidden><div class=\"sk-item\"><div class=\"sk-estimator sk-toggleable\"><input class=\"sk-toggleable__control sk-hidden--visually\" id=\"sk-estimator-id-2\" type=\"checkbox\" checked><label for=\"sk-estimator-id-2\" class=\"sk-toggleable__label sk-toggleable__label-arrow\">SVC</label><div class=\"sk-toggleable__content\"><pre>SVC(kernel=&#x27;linear&#x27;)</pre></div></div></div></div></div>"
            ]
          },
          "metadata": {},
          "execution_count": 24
        }
      ],
      "source": [
        "classifier.fit(X_train, Y_train)"
      ]
    },
    {
      "cell_type": "markdown",
      "metadata": {
        "id": "PikfG-plr7p6"
      },
      "source": [
        "6. membuat model evaluasi untuk mengukur tingkat akurasi"
      ]
    },
    {
      "cell_type": "code",
      "execution_count": 25,
      "metadata": {
        "id": "aI5VM7cQr7p8"
      },
      "outputs": [],
      "source": [
        "X_train_prediction = classifier.predict(X_train)\n",
        "training_data_accuracy = accuracy_score(X_train_prediction, Y_train)"
      ]
    },
    {
      "cell_type": "code",
      "execution_count": 26,
      "metadata": {
        "id": "yiOOe6alr7p9",
        "outputId": "061ad2ee-931c-41f2-d066-ba8447f54e61",
        "colab": {
          "base_uri": "https://localhost:8080/"
        }
      },
      "outputs": [
        {
          "output_type": "stream",
          "name": "stdout",
          "text": [
            "Akurasi data training adalah =  0.8760186263096624\n"
          ]
        }
      ],
      "source": [
        "print('Akurasi data training adalah = ', training_data_accuracy)"
      ]
    },
    {
      "cell_type": "code",
      "execution_count": 27,
      "metadata": {
        "id": "fStu1btar7p_"
      },
      "outputs": [],
      "source": [
        "X_test_prediction = classifier.predict(X_test)\n",
        "test_data_accuracy = accuracy_score(X_test_prediction, Y_test)"
      ]
    },
    {
      "cell_type": "code",
      "execution_count": 28,
      "metadata": {
        "id": "m_DgY_4Tr7qS",
        "outputId": "cc2f65ac-71f8-4c8f-d975-ca1c1f4b9f9e",
        "colab": {
          "base_uri": "https://localhost:8080/"
        }
      },
      "outputs": [
        {
          "output_type": "stream",
          "name": "stdout",
          "text": [
            "Akurasi data testing adalah =  0.8697674418604651\n"
          ]
        }
      ],
      "source": [
        "print('Akurasi data testing adalah = ', test_data_accuracy)"
      ]
    },
    {
      "cell_type": "code",
      "execution_count": 29,
      "metadata": {
        "id": "Zg3S2qFTr7qT",
        "outputId": "80a6bfea-d98c-45bc-92e0-df7a3f0f70ef",
        "colab": {
          "base_uri": "https://localhost:8080/",
          "height": 270
        }
      },
      "outputs": [
        {
          "output_type": "execute_result",
          "data": {
            "text/plain": [
              "    AREA  PERIMETER  MAJOR_AXIS  MINOR_AXIS  ECCENTRICITY   EQDIASQ  SOLIDITY  \\\n",
              "0  63391   1568.405    390.3396    236.7461        0.7951  284.0984    0.8665   \n",
              "1  68358   1942.187    410.8594    234.7525        0.8207  295.0188    0.8765   \n",
              "2  73589   1246.538    452.3630    220.5547        0.8731  306.0987    0.9172   \n",
              "3  71106   1445.261    429.5291    216.0765        0.8643  300.8903    0.9589   \n",
              "4  80087   1251.524    469.3783    220.9344        0.8823  319.3273    0.9657   \n",
              "\n",
              "   CONVEX_AREA  EXTENT  ASPECT_RATIO  ROUNDNESS  COMPACTNESS  Class  \n",
              "0        73160  0.6394        1.6488     0.3238       0.7278      0  \n",
              "1        77991  0.6772        1.7502     0.2277       0.7181      0  \n",
              "2        80234  0.7127        2.0510     0.5951       0.6767      0  \n",
              "3        74153  0.7028        1.9879     0.4278       0.7005      0  \n",
              "4        82929  0.7459        2.1245     0.6425       0.6803      0  "
            ],
            "text/html": [
              "\n",
              "  <div id=\"df-67bfba14-d50b-485d-a66c-05836b06a3d7\">\n",
              "    <div class=\"colab-df-container\">\n",
              "      <div>\n",
              "<style scoped>\n",
              "    .dataframe tbody tr th:only-of-type {\n",
              "        vertical-align: middle;\n",
              "    }\n",
              "\n",
              "    .dataframe tbody tr th {\n",
              "        vertical-align: top;\n",
              "    }\n",
              "\n",
              "    .dataframe thead th {\n",
              "        text-align: right;\n",
              "    }\n",
              "</style>\n",
              "<table border=\"1\" class=\"dataframe\">\n",
              "  <thead>\n",
              "    <tr style=\"text-align: right;\">\n",
              "      <th></th>\n",
              "      <th>AREA</th>\n",
              "      <th>PERIMETER</th>\n",
              "      <th>MAJOR_AXIS</th>\n",
              "      <th>MINOR_AXIS</th>\n",
              "      <th>ECCENTRICITY</th>\n",
              "      <th>EQDIASQ</th>\n",
              "      <th>SOLIDITY</th>\n",
              "      <th>CONVEX_AREA</th>\n",
              "      <th>EXTENT</th>\n",
              "      <th>ASPECT_RATIO</th>\n",
              "      <th>ROUNDNESS</th>\n",
              "      <th>COMPACTNESS</th>\n",
              "      <th>Class</th>\n",
              "    </tr>\n",
              "  </thead>\n",
              "  <tbody>\n",
              "    <tr>\n",
              "      <th>0</th>\n",
              "      <td>63391</td>\n",
              "      <td>1568.405</td>\n",
              "      <td>390.3396</td>\n",
              "      <td>236.7461</td>\n",
              "      <td>0.7951</td>\n",
              "      <td>284.0984</td>\n",
              "      <td>0.8665</td>\n",
              "      <td>73160</td>\n",
              "      <td>0.6394</td>\n",
              "      <td>1.6488</td>\n",
              "      <td>0.3238</td>\n",
              "      <td>0.7278</td>\n",
              "      <td>0</td>\n",
              "    </tr>\n",
              "    <tr>\n",
              "      <th>1</th>\n",
              "      <td>68358</td>\n",
              "      <td>1942.187</td>\n",
              "      <td>410.8594</td>\n",
              "      <td>234.7525</td>\n",
              "      <td>0.8207</td>\n",
              "      <td>295.0188</td>\n",
              "      <td>0.8765</td>\n",
              "      <td>77991</td>\n",
              "      <td>0.6772</td>\n",
              "      <td>1.7502</td>\n",
              "      <td>0.2277</td>\n",
              "      <td>0.7181</td>\n",
              "      <td>0</td>\n",
              "    </tr>\n",
              "    <tr>\n",
              "      <th>2</th>\n",
              "      <td>73589</td>\n",
              "      <td>1246.538</td>\n",
              "      <td>452.3630</td>\n",
              "      <td>220.5547</td>\n",
              "      <td>0.8731</td>\n",
              "      <td>306.0987</td>\n",
              "      <td>0.9172</td>\n",
              "      <td>80234</td>\n",
              "      <td>0.7127</td>\n",
              "      <td>2.0510</td>\n",
              "      <td>0.5951</td>\n",
              "      <td>0.6767</td>\n",
              "      <td>0</td>\n",
              "    </tr>\n",
              "    <tr>\n",
              "      <th>3</th>\n",
              "      <td>71106</td>\n",
              "      <td>1445.261</td>\n",
              "      <td>429.5291</td>\n",
              "      <td>216.0765</td>\n",
              "      <td>0.8643</td>\n",
              "      <td>300.8903</td>\n",
              "      <td>0.9589</td>\n",
              "      <td>74153</td>\n",
              "      <td>0.7028</td>\n",
              "      <td>1.9879</td>\n",
              "      <td>0.4278</td>\n",
              "      <td>0.7005</td>\n",
              "      <td>0</td>\n",
              "    </tr>\n",
              "    <tr>\n",
              "      <th>4</th>\n",
              "      <td>80087</td>\n",
              "      <td>1251.524</td>\n",
              "      <td>469.3783</td>\n",
              "      <td>220.9344</td>\n",
              "      <td>0.8823</td>\n",
              "      <td>319.3273</td>\n",
              "      <td>0.9657</td>\n",
              "      <td>82929</td>\n",
              "      <td>0.7459</td>\n",
              "      <td>2.1245</td>\n",
              "      <td>0.6425</td>\n",
              "      <td>0.6803</td>\n",
              "      <td>0</td>\n",
              "    </tr>\n",
              "  </tbody>\n",
              "</table>\n",
              "</div>\n",
              "      <button class=\"colab-df-convert\" onclick=\"convertToInteractive('df-67bfba14-d50b-485d-a66c-05836b06a3d7')\"\n",
              "              title=\"Convert this dataframe to an interactive table.\"\n",
              "              style=\"display:none;\">\n",
              "        \n",
              "  <svg xmlns=\"http://www.w3.org/2000/svg\" height=\"24px\"viewBox=\"0 0 24 24\"\n",
              "       width=\"24px\">\n",
              "    <path d=\"M0 0h24v24H0V0z\" fill=\"none\"/>\n",
              "    <path d=\"M18.56 5.44l.94 2.06.94-2.06 2.06-.94-2.06-.94-.94-2.06-.94 2.06-2.06.94zm-11 1L8.5 8.5l.94-2.06 2.06-.94-2.06-.94L8.5 2.5l-.94 2.06-2.06.94zm10 10l.94 2.06.94-2.06 2.06-.94-2.06-.94-.94-2.06-.94 2.06-2.06.94z\"/><path d=\"M17.41 7.96l-1.37-1.37c-.4-.4-.92-.59-1.43-.59-.52 0-1.04.2-1.43.59L10.3 9.45l-7.72 7.72c-.78.78-.78 2.05 0 2.83L4 21.41c.39.39.9.59 1.41.59.51 0 1.02-.2 1.41-.59l7.78-7.78 2.81-2.81c.8-.78.8-2.07 0-2.86zM5.41 20L4 18.59l7.72-7.72 1.47 1.35L5.41 20z\"/>\n",
              "  </svg>\n",
              "      </button>\n",
              "      \n",
              "  <style>\n",
              "    .colab-df-container {\n",
              "      display:flex;\n",
              "      flex-wrap:wrap;\n",
              "      gap: 12px;\n",
              "    }\n",
              "\n",
              "    .colab-df-convert {\n",
              "      background-color: #E8F0FE;\n",
              "      border: none;\n",
              "      border-radius: 50%;\n",
              "      cursor: pointer;\n",
              "      display: none;\n",
              "      fill: #1967D2;\n",
              "      height: 32px;\n",
              "      padding: 0 0 0 0;\n",
              "      width: 32px;\n",
              "    }\n",
              "\n",
              "    .colab-df-convert:hover {\n",
              "      background-color: #E2EBFA;\n",
              "      box-shadow: 0px 1px 2px rgba(60, 64, 67, 0.3), 0px 1px 3px 1px rgba(60, 64, 67, 0.15);\n",
              "      fill: #174EA6;\n",
              "    }\n",
              "\n",
              "    [theme=dark] .colab-df-convert {\n",
              "      background-color: #3B4455;\n",
              "      fill: #D2E3FC;\n",
              "    }\n",
              "\n",
              "    [theme=dark] .colab-df-convert:hover {\n",
              "      background-color: #434B5C;\n",
              "      box-shadow: 0px 1px 3px 1px rgba(0, 0, 0, 0.15);\n",
              "      filter: drop-shadow(0px 1px 2px rgba(0, 0, 0, 0.3));\n",
              "      fill: #FFFFFF;\n",
              "    }\n",
              "  </style>\n",
              "\n",
              "      <script>\n",
              "        const buttonEl =\n",
              "          document.querySelector('#df-67bfba14-d50b-485d-a66c-05836b06a3d7 button.colab-df-convert');\n",
              "        buttonEl.style.display =\n",
              "          google.colab.kernel.accessAllowed ? 'block' : 'none';\n",
              "\n",
              "        async function convertToInteractive(key) {\n",
              "          const element = document.querySelector('#df-67bfba14-d50b-485d-a66c-05836b06a3d7');\n",
              "          const dataTable =\n",
              "            await google.colab.kernel.invokeFunction('convertToInteractive',\n",
              "                                                     [key], {});\n",
              "          if (!dataTable) return;\n",
              "\n",
              "          const docLinkHtml = 'Like what you see? Visit the ' +\n",
              "            '<a target=\"_blank\" href=https://colab.research.google.com/notebooks/data_table.ipynb>data table notebook</a>'\n",
              "            + ' to learn more about interactive tables.';\n",
              "          element.innerHTML = '';\n",
              "          dataTable['output_type'] = 'display_data';\n",
              "          await google.colab.output.renderOutput(dataTable, element);\n",
              "          const docLink = document.createElement('div');\n",
              "          docLink.innerHTML = docLinkHtml;\n",
              "          element.appendChild(docLink);\n",
              "        }\n",
              "      </script>\n",
              "    </div>\n",
              "  </div>\n",
              "  "
            ]
          },
          "metadata": {},
          "execution_count": 29
        }
      ],
      "source": [
        "df.head()"
      ]
    },
    {
      "cell_type": "markdown",
      "metadata": {
        "id": "GCMy2pQXr7qV"
      },
      "source": [
        "# EVALUATION"
      ]
    },
    {
      "cell_type": "markdown",
      "metadata": {
        "id": "GwrIOeVFr7qW"
      },
      "source": [
        "7. Membuat Model Prediksi"
      ]
    },
    {
      "cell_type": "code",
      "execution_count": 30,
      "metadata": {
        "id": "kNFoRknQr7qX",
        "outputId": "cbba6e65-248c-48ff-8fc0-f48ddb00dbe1",
        "colab": {
          "base_uri": "https://localhost:8080/"
        }
      },
      "outputs": [
        {
          "output_type": "stream",
          "name": "stdout",
          "text": [
            "[[-1.26229557  0.3793384  -1.72358958 -0.05166846 -0.92556042 -1.25716866\n",
            "  -1.4590027  -0.90145749 -1.45976311 -1.03878418 -1.15355007  0.33058803]]\n",
            "\n",
            "[0]\n",
            "\n",
            "Jenis Kirmizi Pistachio\n"
          ]
        },
        {
          "output_type": "stream",
          "name": "stderr",
          "text": [
            "/usr/local/lib/python3.10/dist-packages/sklearn/base.py:439: UserWarning: X does not have valid feature names, but StandardScaler was fitted with feature names\n",
            "  warnings.warn(\n"
          ]
        }
      ],
      "source": [
        "input_data = (63391,1568.405,390.3396,236.7461,0.7951,284.0984,0.8665,73160,0.6394,1.6488,0.3238,0.7278)\n",
        "# input_data = (13.54,14.36,87.46,566.3,0.09779,0.08129)\n",
        "\n",
        "input_data_as_numpy_array = np.array(input_data)\n",
        "\n",
        "input_data_reshape = input_data_as_numpy_array.reshape(1,-1)\n",
        "\n",
        "std_data = scaler.transform(input_data_reshape)\n",
        "print(std_data)\n",
        "\n",
        "prediction = classifier.predict(std_data)\n",
        "print()\n",
        "print(prediction)\n",
        "print()\n",
        "if (prediction[0] == 0):\n",
        "    print('Jenis Kirmizi Pistachio')\n",
        "else :\n",
        "    print('Jenis Siit Pistachio')"
      ]
    },
    {
      "cell_type": "markdown",
      "metadata": {
        "id": "jU6AohDcr7qY"
      },
      "source": [
        "8. simpan model"
      ]
    },
    {
      "cell_type": "code",
      "execution_count": 31,
      "metadata": {
        "id": "0vRjVKI2r7qY"
      },
      "outputs": [],
      "source": [
        "import pickle"
      ]
    },
    {
      "cell_type": "code",
      "execution_count": 32,
      "metadata": {
        "id": "GCNFQl5Rr7qg"
      },
      "outputs": [],
      "source": [
        "filename = 'pistachio.sav'\n",
        "pickle.dump(classifier, open(filename,'wb'))\n",
        "pickle.dump(scaler, open('scaler.sav','wb'))"
      ]
    }
  ],
  "metadata": {
    "kernelspec": {
      "display_name": "Python 3.9.13 ('base')",
      "language": "python",
      "name": "python3"
    },
    "language_info": {
      "codemirror_mode": {
        "name": "ipython",
        "version": 3
      },
      "file_extension": ".py",
      "mimetype": "text/x-python",
      "name": "python",
      "nbconvert_exporter": "python",
      "pygments_lexer": "ipython3",
      "version": "3.11.4"
    },
    "orig_nbformat": 4,
    "vscode": {
      "interpreter": {
        "hash": "41dd4c984a9e78553231001491035e255d6ac523bf345a53e3dc7b1ed03e96ba"
      }
    },
    "colab": {
      "provenance": []
    }
  },
  "nbformat": 4,
  "nbformat_minor": 0
}